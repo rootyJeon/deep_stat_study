{
  "nbformat": 4,
  "nbformat_minor": 0,
  "metadata": {
    "colab": {
      "provenance": []
    },
    "kernelspec": {
      "name": "python3",
      "display_name": "Python 3"
    },
    "language_info": {
      "name": "python"
    }
  },
  "cells": [
    {
      "cell_type": "code",
      "execution_count": 1,
      "metadata": {
        "id": "KIuaXZlso4L5"
      },
      "outputs": [],
      "source": [
        "import numpy as np"
      ]
    },
    {
      "cell_type": "code",
      "source": [
        "?np.random.randn"
      ],
      "metadata": {
        "id": "jE-fgeifpgkE"
      },
      "execution_count": 3,
      "outputs": []
    },
    {
      "cell_type": "code",
      "source": [
        "import time\n",
        "def timer(func):\n",
        "  def wrapper(*args, **kwargs):\n",
        "    start_time = time.time()\n",
        "    result = func(*args, **kwargs)\n",
        "    end_time = time.time()\n",
        "    computation_time = end_time - start_time\n",
        "    print(f\"Executation time of {func.__name__}: {computation_time} seconds\")\n",
        "    return result\n",
        "  return wrapper"
      ],
      "metadata": {
        "id": "6Rx6n0m73t-y"
      },
      "execution_count": 58,
      "outputs": []
    },
    {
      "cell_type": "code",
      "source": [
        "true_b = 1\n",
        "true_w = 2\n",
        "N = 100 # number of data\n",
        "\n",
        "np.random.seed(42)\n",
        "x = np.random.rand(N,1)\n",
        "epsilon = 0.1 * np.random.randn(N,1)\n",
        "y = true_b + true_w * x + epsilon # data generation"
      ],
      "metadata": {
        "id": "uiWXGygmpNhe"
      },
      "execution_count": 70,
      "outputs": []
    },
    {
      "cell_type": "code",
      "source": [
        "# Shuffles the indices\n",
        "idx = np.arange(N)\n",
        "split_index = int(N * 0.8)\n",
        "\n",
        "train_idx = idx[:split_index]\n",
        "val_idx = idx[split_index:]\n",
        "\n",
        "# Generates train data and validation sets\n",
        "x_train, y_train = x[train_idx], y[train_idx]\n",
        "x_val, y_val = x[val_idx], y[val_idx]"
      ],
      "metadata": {
        "id": "PATgfJXgrWFo"
      },
      "execution_count": 71,
      "outputs": []
    },
    {
      "cell_type": "code",
      "source": [
        "import matplotlib.pyplot as plt\n",
        "plt.scatter(x_train, y_train, alpha=0.7, label='train')\n",
        "plt.scatter(x_val, y_val, color='orange', alpha=0.7, label='validation')\n",
        "plt.legend()\n",
        "plt.grid()"
      ],
      "metadata": {
        "colab": {
          "base_uri": "https://localhost:8080/",
          "height": 430
        },
        "id": "LJlE6FFetFD7",
        "outputId": "3d9a6543-e0ad-4f60-b478-45bce9357869"
      },
      "execution_count": 72,
      "outputs": [
        {
          "output_type": "display_data",
          "data": {
            "text/plain": [
              "<Figure size 640x480 with 1 Axes>"
            ],
            "image/png": "[encoded data removed]"
          },
          "metadata": {}
        }
      ]
    },
    {
      "cell_type": "code",
      "source": [
        "@timer\n",
        "def train_model_numpy(lr=0.1, epochs=1000):\n",
        "\n",
        "  # Initialize parameters\n",
        "  b = np.random.randn(1)\n",
        "  w = np.random.randn(1)\n",
        "\n",
        "  for epoch in range(epochs):\n",
        "    # Loss computation\n",
        "    y_hat = b + w * x_train\n",
        "    error = (y_hat - y_train)\n",
        "    mse_loss = np.mean(error ** 2)\n",
        "\n",
        "    # Gradient computation\n",
        "    b_grad = 2 * np.mean(error)\n",
        "    w_grad = 2 * np.mean(x_train * error)\n",
        "    b = b - lr * b_grad\n",
        "    w = w - lr * w_grad\n",
        "\n",
        "    if epoch % 50 == 0:\n",
        "      print(\"epoch: {}, loss: {}\".format(epoch, mse_loss))\n",
        "\n",
        "  return b, w"
      ],
      "metadata": {
        "id": "p6KBCpfKyNXB"
      },
      "execution_count": 73,
      "outputs": []
    },
    {
      "cell_type": "code",
      "source": [
        "b_hat, w_hat = train_model_numpy()\n",
        "print(\"b_estimate:{}, w_estimate:{}\".format(b_hat, w_hat))"
      ],
      "metadata": {
        "colab": {
          "base_uri": "https://localhost:8080/"
        },
        "id": "f2Q-qbpM0ZJt",
        "outputId": "60ed7fe1-6f57-4274-98c5-f749f8b6256c"
      },
      "execution_count": 74,
      "outputs": [
        {
          "output_type": "stream",
          "name": "stdout",
          "text": [
            "epoch: 0, loss: 1.5558947253513733\n",
            "epoch: 50, loss: 0.007732399680758532\n",
            "epoch: 100, loss: 0.007725710369168937\n",
            "epoch: 150, loss: 0.007724227012488814\n",
            "epoch: 200, loss: 0.007723898077701266\n",
            "epoch: 250, loss: 0.007723825136313728\n",
            "epoch: 300, loss: 0.00772380896153922\n",
            "epoch: 350, loss: 0.007723805374778131\n",
            "epoch: 400, loss: 0.007723804579412791\n",
            "epoch: 450, loss: 0.007723804403040288\n",
            "epoch: 500, loss: 0.0077238043639296355\n",
            "epoch: 550, loss: 0.007723804355256836\n",
            "epoch: 600, loss: 0.007723804353333638\n",
            "epoch: 650, loss: 0.007723804352907168\n",
            "epoch: 700, loss: 0.007723804352812602\n",
            "epoch: 750, loss: 0.007723804352791627\n",
            "epoch: 800, loss: 0.007723804352786976\n",
            "epoch: 850, loss: 0.007723804352785943\n",
            "epoch: 900, loss: 0.007723804352785721\n",
            "epoch: 950, loss: 0.007723804352785674\n",
            "Executation time of train_model_numpy: 0.03809762001037598 seconds\n",
            "b_estimate:[1.02341376], w_estimate:[1.93680725]\n"
          ]
        }
      ]
    },
    {
      "cell_type": "code",
      "source": [
        "import torch\n",
        "\n",
        "# create tensor at CPU\n",
        "x_train_tensor = torch.as_tensor(x_train)\n",
        "y_train_tensor = torch.as_tensor(y_train)\n",
        "\n",
        "# create tensor at GPU\n",
        "device = 'cuda' if torch.cuda.is_available() else 'cpu'\n",
        "x_train_tensor = torch.as_tensor(x_train).to(device)\n",
        "y_train_tensor = torch.as_tensor(y_train).to(device)"
      ],
      "metadata": {
        "id": "LzfxUYZ26Y9k"
      },
      "execution_count": 79,
      "outputs": []
    },
    {
      "cell_type": "code",
      "source": [
        "@timer\n",
        "def train_model_torch_(lr=0.1, epochs=1000):\n",
        "  # Initialize parameters\n",
        "  b = torch.randn(1, requires_grad=True, dtype=torch.float, device=device)\n",
        "  w = torch.randn(1, requires_grad=True, dtype=torch.float, device=device)\n",
        "\n",
        "  for epoch in range(epochs):\n",
        "    # Loss computation\n",
        "    y_hat = b + w * x_train_tensor\n",
        "    error = (y_hat - y_train_tensor)\n",
        "    mse_loss = torch.mean(error ** 2)\n",
        "    # Gradient Computation and descent\n",
        "    mse_loss.backward()\n",
        "    with torch.no_grad():\n",
        "      b -= lr * b.grad\n",
        "      w -= lr * w.grad\n",
        "    b.grad.zero_()\n",
        "    w.grad.zero_()\n",
        "\n",
        "    if epoch % 50 == 0:\n",
        "      print(\"epoch: {}, loss: {}\".format(epoch, mse_loss))\n",
        "  return b, w"
      ],
      "metadata": {
        "id": "UIBsesM-8byD"
      },
      "execution_count": 91,
      "outputs": []
    },
    {
      "cell_type": "code",
      "source": [
        "b_hat, w_hat = train_model_torch_()\n",
        "print(\"b_estimate:{}, w_estimate:{}\".format(b_hat, w_hat))"
      ],
      "metadata": {
        "colab": {
          "base_uri": "https://localhost:8080/"
        },
        "id": "T6SMPmU3-DDv",
        "outputId": "bb87ba5b-055d-4d16-ca56-089e0464673f"
      },
      "execution_count": 92,
      "outputs": [
        {
          "output_type": "stream",
          "name": "stdout",
          "text": [
            "epoch: 0, loss: 2.081305540655837\n",
            "epoch: 50, loss: 0.010442169778164685\n",
            "epoch: 100, loss: 0.008326602917929693\n",
            "epoch: 150, loss: 0.007857476444320019\n",
            "epoch: 200, loss: 0.0077534466446551485\n",
            "epoch: 250, loss: 0.007730377234509783\n",
            "epoch: 300, loss: 0.007725261724730715\n",
            "epoch: 350, loss: 0.0077241274549396275\n",
            "epoch: 400, loss: 0.007723876040137949\n",
            "epoch: 450, loss: 0.007723820235948276\n",
            "epoch: 500, loss: 0.007723807881663119\n",
            "epoch: 550, loss: 0.007723805136487023\n",
            "epoch: 600, loss: 0.007723804528193519\n",
            "epoch: 650, loss: 0.007723804392756275\n",
            "epoch: 700, loss: 0.007723804362049461\n",
            "epoch: 750, loss: 0.007723804354615012\n",
            "epoch: 800, loss: 0.007723804354615012\n",
            "epoch: 850, loss: 0.007723804354615012\n",
            "epoch: 900, loss: 0.007723804354615012\n",
            "epoch: 950, loss: 0.007723804354615012\n",
            "Executation time of train_model_torch_: 0.161238431930542 seconds\n",
            "b_estimate:tensor([1.0234], requires_grad=True), w_estimate:tensor([1.9368], requires_grad=True)\n"
          ]
        }
      ]
    },
    {
      "cell_type": "code",
      "source": [
        "!pip install torchviz"
      ],
      "metadata": {
        "colab": {
          "base_uri": "https://localhost:8080/"
        },
        "id": "VnQTUJHsBEEm",
        "outputId": "dbec51ee-99f4-4ef8-ebc5-dfa124a45083"
      },
      "execution_count": 89,
      "outputs": [
        {
          "output_type": "stream",
          "name": "stdout",
          "text": [
            "Collecting torchviz\n",
            "  Downloading torchviz-0.0.2.tar.gz (4.9 kB)\n",
            "  Preparing metadata (setup.py) ... \u001b[?25l\u001b[?25hdone\n",
            "Requirement already satisfied: torch in /usr/local/lib/python3.10/dist-packages (from torchviz) (2.0.1+cu118)\n",
            "Requirement already satisfied: graphviz in /usr/local/lib/python3.10/dist-packages (from torchviz) (0.20.1)\n",
            "Requirement already satisfied: filelock in /usr/local/lib/python3.10/dist-packages (from torch->torchviz) (3.12.2)\n",
            "Requirement already satisfied: typing-extensions in /usr/local/lib/python3.10/dist-packages (from torch->torchviz) (4.7.1)\n",
            "Requirement already satisfied: sympy in /usr/local/lib/python3.10/dist-packages (from torch->torchviz) (1.11.1)\n",
            "Requirement already satisfied: networkx in /usr/local/lib/python3.10/dist-packages (from torch->torchviz) (3.1)\n",
            "Requirement already satisfied: jinja2 in /usr/local/lib/python3.10/dist-packages (from torch->torchviz) (3.1.2)\n",
            "Requirement already satisfied: triton==2.0.0 in /usr/local/lib/python3.10/dist-packages (from torch->torchviz) (2.0.0)\n",
            "Requirement already satisfied: cmake in /usr/local/lib/python3.10/dist-packages (from triton==2.0.0->torch->torchviz) (3.25.2)\n",
            "Requirement already satisfied: lit in /usr/local/lib/python3.10/dist-packages (from triton==2.0.0->torch->torchviz) (16.0.6)\n",
            "Requirement already satisfied: MarkupSafe>=2.0 in /usr/local/lib/python3.10/dist-packages (from jinja2->torch->torchviz) (2.1.3)\n",
            "Requirement already satisfied: mpmath>=0.19 in /usr/local/lib/python3.10/dist-packages (from sympy->torch->torchviz) (1.3.0)\n",
            "Building wheels for collected packages: torchviz\n",
            "  Building wheel for torchviz (setup.py) ... \u001b[?25l\u001b[?25hdone\n",
            "  Created wheel for torchviz: filename=torchviz-0.0.2-py3-none-any.whl size=4131 sha256=88127fee697c7a1f26f5ed25c5b8eedf1c0ceb81025f05bbc139b87071c62df5\n",
            "  Stored in directory: /root/.cache/pip/wheels/4c/97/88/a02973217949e0db0c9f4346d154085f4725f99c4f15a87094\n",
            "Successfully built torchviz\n",
            "Installing collected packages: torchviz\n",
            "Successfully installed torchviz-0.0.2\n"
          ]
        }
      ]
    },
    {
      "cell_type": "code",
      "source": [
        "from torchviz import make_dot\n",
        "b = torch.randn(1, requires_grad=True, dtype=torch.float, device=device)\n",
        "w = torch.randn(1, requires_grad=True, dtype=torch.float, device=device)\n",
        "y_hat = b + w * x_train_tensor\n",
        "make_dot(y_hat)"
      ],
      "metadata": {
        "colab": {
          "base_uri": "https://localhost:8080/",
          "height": 398
        },
        "id": "m6RzlzbFFC13",
        "outputId": "56ae9e05-0382-4149-9681-68ebcd037733"
      },
      "execution_count": 107,
      "outputs": [
        {
          "output_type": "execute_result",
          "data": {
            "image/svg+xml": "<?xml version=\"1.0\" encoding=\"UTF-8\" standalone=\"no\"?>\n<!DOCTYPE svg PUBLIC \"-//W3C//DTD SVG 1.1//EN\"\n \"http://www.w3.org/Graphics/SVG/1.1/DTD/svg11.dtd\">\n<!-- Generated by graphviz version 2.43.0 (0)\n -->\n<!-- Title: %3 Pages: 1 -->\n<svg width=\"222pt\" height=\"283pt\"\n viewBox=\"0.00 0.00 222.00 283.00\" xmlns=\"http://www.w3.org/2000/svg\" xmlns:xlink=\"http://www.w3.org/1999/xlink\">\n<g id=\"graph0\" class=\"graph\" transform=\"scale(1 1) rotate(0) translate(4 279)\">\n<title>%3</title>\n<polygon fill=\"white\" stroke=\"transparent\" points=\"-4,4 -4,-279 218,-279 218,4 -4,4\"/>\n<!-- 139659507188816 -->\n<g id=\"node1\" class=\"node\">\n<title>139659507188816</title>\n<polygon fill=\"#caff70\" stroke=\"black\" points=\"139,-31 74,-31 74,0 139,0 139,-31\"/>\n<text text-anchor=\"middle\" x=\"106.5\" y=\"-7\" font-family=\"monospace\" font-size=\"10.00\"> (80, 1)</text>\n</g>\n<!-- 139659507253456 -->\n<g id=\"node2\" class=\"node\">\n<title>139659507253456</title>\n<polygon fill=\"lightgrey\" stroke=\"black\" points=\"151,-86 62,-86 62,-67 151,-67 151,-86\"/>\n<text text-anchor=\"middle\" x=\"106.5\" y=\"-74\" font-family=\"monospace\" font-size=\"10.00\">AddBackward0</text>\n</g>\n<!-- 139659507253456&#45;&gt;139659507188816 -->\n<g id=\"edge6\" class=\"edge\">\n<title>139659507253456&#45;&gt;139659507188816</title>\n<path fill=\"none\" stroke=\"black\" d=\"M106.5,-66.79C106.5,-60.07 106.5,-50.4 106.5,-41.34\"/>\n<polygon fill=\"black\" stroke=\"black\" points=\"110,-41.19 106.5,-31.19 103,-41.19 110,-41.19\"/>\n</g>\n<!-- 139659507257536 -->\n<g id=\"node3\" class=\"node\">\n<title>139659507257536</title>\n<polygon fill=\"lightgrey\" stroke=\"black\" points=\"101,-141 0,-141 0,-122 101,-122 101,-141\"/>\n<text text-anchor=\"middle\" x=\"50.5\" y=\"-129\" font-family=\"monospace\" font-size=\"10.00\">AccumulateGrad</text>\n</g>\n<!-- 139659507257536&#45;&gt;139659507253456 -->\n<g id=\"edge1\" class=\"edge\">\n<title>139659507257536&#45;&gt;139659507253456</title>\n<path fill=\"none\" stroke=\"black\" d=\"M59.5,-121.98C67.69,-114.23 80.01,-102.58 89.97,-93.14\"/>\n<polygon fill=\"black\" stroke=\"black\" points=\"92.48,-95.59 97.34,-86.17 87.67,-90.5 92.48,-95.59\"/>\n</g>\n<!-- 139659508237232 -->\n<g id=\"node4\" class=\"node\">\n<title>139659508237232</title>\n<polygon fill=\"lightblue\" stroke=\"black\" points=\"77.5,-208 23.5,-208 23.5,-177 77.5,-177 77.5,-208\"/>\n<text text-anchor=\"middle\" x=\"50.5\" y=\"-184\" font-family=\"monospace\" font-size=\"10.00\"> (1)</text>\n</g>\n<!-- 139659508237232&#45;&gt;139659507257536 -->\n<g id=\"edge2\" class=\"edge\">\n<title>139659508237232&#45;&gt;139659507257536</title>\n<path fill=\"none\" stroke=\"black\" d=\"M50.5,-176.92C50.5,-169.22 50.5,-159.69 50.5,-151.43\"/>\n<polygon fill=\"black\" stroke=\"black\" points=\"54,-151.25 50.5,-141.25 47,-151.25 54,-151.25\"/>\n</g>\n<!-- 139659507255184 -->\n<g id=\"node5\" class=\"node\">\n<title>139659507255184</title>\n<polygon fill=\"lightgrey\" stroke=\"black\" points=\"208,-141 119,-141 119,-122 208,-122 208,-141\"/>\n<text text-anchor=\"middle\" x=\"163.5\" y=\"-129\" font-family=\"monospace\" font-size=\"10.00\">MulBackward0</text>\n</g>\n<!-- 139659507255184&#45;&gt;139659507253456 -->\n<g id=\"edge3\" class=\"edge\">\n<title>139659507255184&#45;&gt;139659507253456</title>\n<path fill=\"none\" stroke=\"black\" d=\"M154.34,-121.98C146,-114.23 133.47,-102.58 123.32,-93.14\"/>\n<polygon fill=\"black\" stroke=\"black\" points=\"125.53,-90.42 115.82,-86.17 120.76,-95.54 125.53,-90.42\"/>\n</g>\n<!-- 139659507257488 -->\n<g id=\"node6\" class=\"node\">\n<title>139659507257488</title>\n<polygon fill=\"lightgrey\" stroke=\"black\" points=\"214,-202 113,-202 113,-183 214,-183 214,-202\"/>\n<text text-anchor=\"middle\" x=\"163.5\" y=\"-190\" font-family=\"monospace\" font-size=\"10.00\">AccumulateGrad</text>\n</g>\n<!-- 139659507257488&#45;&gt;139659507255184 -->\n<g id=\"edge4\" class=\"edge\">\n<title>139659507257488&#45;&gt;139659507255184</title>\n<path fill=\"none\" stroke=\"black\" d=\"M163.5,-182.79C163.5,-174.6 163.5,-162.06 163.5,-151.55\"/>\n<polygon fill=\"black\" stroke=\"black\" points=\"167,-151.24 163.5,-141.24 160,-151.24 167,-151.24\"/>\n</g>\n<!-- 139662173700400 -->\n<g id=\"node7\" class=\"node\">\n<title>139662173700400</title>\n<polygon fill=\"lightblue\" stroke=\"black\" points=\"190.5,-275 136.5,-275 136.5,-244 190.5,-244 190.5,-275\"/>\n<text text-anchor=\"middle\" x=\"163.5\" y=\"-251\" font-family=\"monospace\" font-size=\"10.00\"> (1)</text>\n</g>\n<!-- 139662173700400&#45;&gt;139659507257488 -->\n<g id=\"edge5\" class=\"edge\">\n<title>139662173700400&#45;&gt;139659507257488</title>\n<path fill=\"none\" stroke=\"black\" d=\"M163.5,-243.75C163.5,-234.39 163.5,-222.19 163.5,-212.16\"/>\n<polygon fill=\"black\" stroke=\"black\" points=\"167,-212.02 163.5,-202.02 160,-212.02 167,-212.02\"/>\n</g>\n</g>\n</svg>\n",
            "text/plain": [
              "<graphviz.graphs.Digraph at 0x7f050351c100>"
            ]
          },
          "metadata": {},
          "execution_count": 107
        }
      ]
    },
    {
      "cell_type": "code",
      "source": [
        "import torch.optim as optim\n",
        "import torch.nn as nn\n",
        "@timer\n",
        "def train_model_torch(lr=0.1, epochs=1000):\n",
        "  # Initialize parameters\n",
        "  b = torch.randn(1, requires_grad=True, dtype=torch.float, device=device)\n",
        "  w = torch.randn(1, requires_grad=True, dtype=torch.float, device=device)\n",
        "  parameters = [b, w]\n",
        "  optimizer = optim.SGD(parameters, lr=lr)\n",
        "  mse_loss = nn.MSELoss()\n",
        "\n",
        "  for epoch in range(epochs):\n",
        "    # Loss computation\n",
        "    y_hat = b + w * x_train_tensor\n",
        "    loss = mse_loss(y_hat, y_train_tensor)\n",
        "    # Gradient Computation and descent\n",
        "    loss.backward()\n",
        "    optimizer.step()\n",
        "    optimizer.zero_grad()\n",
        "    if epoch % 50 == 0:\n",
        "      print(\"epoch: {}, loss: {}\".format(epoch, loss))\n",
        "  return b, w"
      ],
      "metadata": {
        "id": "6KEQflJbCJbB"
      },
      "execution_count": 141,
      "outputs": []
    },
    {
      "cell_type": "code",
      "source": [
        "b_hat, w_hat = train_model_torch()\n",
        "print(\"b_estimate:{}, w_estimate:{}\".format(b_hat, w_hat))"
      ],
      "metadata": {
        "colab": {
          "base_uri": "https://localhost:8080/"
        },
        "id": "qoEkNmRICyvI",
        "outputId": "98e92c25-dc9c-4cbf-860e-f07ec47a3681"
      },
      "execution_count": 112,
      "outputs": [
        {
          "output_type": "stream",
          "name": "stdout",
          "text": [
            "epoch: 0, loss: 0.4012533158754329\n",
            "epoch: 50, loss: 0.029627638988592865\n",
            "epoch: 100, loss: 0.012580975476576703\n",
            "epoch: 150, loss: 0.008800889639398507\n",
            "epoch: 200, loss: 0.00796264683762957\n",
            "epoch: 250, loss: 0.007776766567908213\n",
            "epoch: 300, loss: 0.0077355480894485944\n",
            "epoch: 350, loss: 0.007726408303772424\n",
            "epoch: 400, loss: 0.007724381657675169\n",
            "epoch: 450, loss: 0.007723932395803293\n",
            "epoch: 500, loss: 0.0077238327389754086\n",
            "epoch: 550, loss: 0.007723810647448275\n",
            "epoch: 600, loss: 0.0077238057530565184\n",
            "epoch: 650, loss: 0.007723804667609866\n",
            "epoch: 700, loss: 0.007723804423353265\n",
            "epoch: 750, loss: 0.007723804368786134\n",
            "epoch: 800, loss: 0.007723804356563129\n",
            "epoch: 850, loss: 0.007723804354563772\n",
            "epoch: 900, loss: 0.007723804354563772\n",
            "epoch: 950, loss: 0.007723804354563772\n",
            "Executation time of train_model_torch: 0.21133208274841309 seconds\n",
            "b_estimate:tensor([1.0234], requires_grad=True), w_estimate:tensor([1.9368], requires_grad=True)\n"
          ]
        }
      ]
    },
    {
      "cell_type": "code",
      "source": [
        "import torch.optim as optim\n",
        "import torch.nn as nn\n",
        "@timer\n",
        "def train_model_torch2(lr=0.01, epochs=1000):\n",
        "  # Initialize parameters\n",
        "  b = torch.randn(1, requires_grad=True, dtype=torch.float, device=device)\n",
        "  w = torch.randn(1, requires_grad=True, dtype=torch.float, device=device)\n",
        "  w2 = torch.randn(1, requires_grad=True, dtype=torch.float, device=device)\n",
        "  parameters = [b, w, w2]\n",
        "  optimizer = optim.SGD(parameters, lr=lr)\n",
        "  mse_loss = nn.MSELoss()\n",
        "\n",
        "  for epoch in range(epochs):\n",
        "    # Loss computation\n",
        "    y_hat = b + w * x_train_tensor + w2 * (x_train_tensor ** 2 )\n",
        "    loss = mse_loss(y_hat, y_train_tensor)\n",
        "    # Gradient Computation and descent\n",
        "    loss.backward()\n",
        "    optimizer.step()\n",
        "    optimizer.zero_grad()\n",
        "    if epoch % 50 == 0:\n",
        "      print(\"epoch: {}, loss: {}\".format(epoch, loss))\n",
        "  return b, w, w2"
      ],
      "metadata": {
        "id": "CxK3u1flBxX-"
      },
      "execution_count": 154,
      "outputs": []
    },
    {
      "cell_type": "code",
      "source": [
        "b_hat, w_hat, w2_hat = train_model_torch2()\n",
        "print(\"b_estimate:{}, w_estimate:{}, w2_estimate:{}\".format(b_hat, w_hat, w2_hat))"
      ],
      "metadata": {
        "colab": {
          "base_uri": "https://localhost:8080/"
        },
        "id": "QxRxriQ_GZ4T",
        "outputId": "4d36634f-da37-4a49-bc64-98d44a6f3b12"
      },
      "execution_count": 110,
      "outputs": [
        {
          "output_type": "stream",
          "name": "stdout",
          "text": [
            "epoch: 0, loss: 0.8587775577325862\n",
            "epoch: 50, loss: 0.0664451367821873\n",
            "epoch: 100, loss: 0.01915843786132932\n",
            "epoch: 150, loss: 0.015847931427406075\n",
            "epoch: 200, loss: 0.015239625495082404\n",
            "epoch: 250, loss: 0.014817565653610665\n",
            "epoch: 300, loss: 0.01442731144940752\n",
            "epoch: 350, loss: 0.014058367820700782\n",
            "epoch: 400, loss: 0.013709065763205793\n",
            "epoch: 450, loss: 0.013378322423996461\n",
            "epoch: 500, loss: 0.013065155396421824\n",
            "epoch: 550, loss: 0.012768630988912838\n",
            "epoch: 600, loss: 0.012487864768747869\n",
            "epoch: 650, loss: 0.012222018496764991\n",
            "epoch: 700, loss: 0.011970300168925134\n",
            "epoch: 750, loss: 0.01173195831655005\n",
            "epoch: 800, loss: 0.011506279147776147\n",
            "epoch: 850, loss: 0.011292597005069665\n",
            "epoch: 900, loss: 0.011090268340926962\n",
            "epoch: 950, loss: 0.010898690238387151\n",
            "Executation time of train_model_torch2: 0.2511928081512451 seconds\n",
            "b_estimate:tensor([0.9287], requires_grad=True), w_estimate:tensor([2.5039], requires_grad=True), w2_estimate:tensor([-0.5491], requires_grad=True)\n"
          ]
        }
      ]
    },
    {
      "cell_type": "markdown",
      "source": [
        "## Quiz 1"
      ],
      "metadata": {
        "id": "s-5-x8l2Spuz"
      }
    },
    {
      "cell_type": "code",
      "source": [
        "x_val_tensor = torch.as_tensor(x_val).to(device)\n",
        "y_val_tensor = torch.as_tensor(y_val).to(device)\n",
        "y_val_pred = b_hat + w_hat * x_val_tensor\n",
        "mse_loss = nn.MSELoss()\n",
        "loss = mse_loss(y_val_pred, y_val_tensor)\n",
        "loss"
      ],
      "metadata": {
        "colab": {
          "base_uri": "https://localhost:8080/"
        },
        "id": "5qdgqMo-JRXn",
        "outputId": "dfffcdf2-b914-47c4-8e81-29f337e6c96c"
      },
      "execution_count": 126,
      "outputs": [
        {
          "output_type": "execute_result",
          "data": {
            "text/plain": [
              "tensor(0.0098, dtype=torch.float64, grad_fn=<MseLossBackward0>)"
            ]
          },
          "metadata": {},
          "execution_count": 126
        }
      ]
    },
    {
      "cell_type": "markdown",
      "source": [
        "## Quiz 2"
      ],
      "metadata": {
        "id": "G6DCG0yUJq_a"
      }
    },
    {
      "cell_type": "code",
      "source": [
        "import pickle\n",
        "\n",
        "with open('quiz_data.pkl', 'rb') as f:\n",
        "\tdata = pickle.load(f)"
      ],
      "metadata": {
        "id": "aU_0qY7CH6bG"
      },
      "execution_count": 142,
      "outputs": []
    },
    {
      "cell_type": "code",
      "source": [
        "len(data['x'])"
      ],
      "metadata": {
        "colab": {
          "base_uri": "https://localhost:8080/"
        },
        "id": "bOH2-BpZJ_Fp",
        "outputId": "b664d74a-b227-45ac-8c69-a8936c422f7a"
      },
      "execution_count": 131,
      "outputs": [
        {
          "output_type": "execute_result",
          "data": {
            "text/plain": [
              "100"
            ]
          },
          "metadata": {},
          "execution_count": 131
        }
      ]
    },
    {
      "cell_type": "code",
      "source": [
        "# Shuffles the indices\n",
        "idx = np.arange(len(data['x']))\n",
        "split_index = int(len(data['x']) * 0.8)\n",
        "\n",
        "train_idx = idx[:split_index]\n",
        "val_idx = idx[split_index:]\n",
        "\n",
        "# Generates train data and validation sets\n",
        "x_train, y_train = data['x'][train_idx], data['y'][train_idx]\n",
        "x_val, y_val = data['x'][val_idx], data['y'][val_idx]\n",
        "\n",
        "# create tensor at GPU\n",
        "device = 'cuda' if torch.cuda.is_available() else 'cpu'\n",
        "x_train_tensor = torch.as_tensor(x_train).to(device)\n",
        "y_train_tensor = torch.as_tensor(y_train).to(device)"
      ],
      "metadata": {
        "id": "5SF1GiwRJ88L"
      },
      "execution_count": 183,
      "outputs": []
    },
    {
      "cell_type": "code",
      "source": [
        "import matplotlib.pyplot as plt\n",
        "plt.scatter(x_train, y_train, alpha=0.7, label='train')\n",
        "plt.scatter(x_val, y_val, color='orange', alpha=0.7, label='validation')\n",
        "plt.legend()\n",
        "plt.grid()"
      ],
      "metadata": {
        "colab": {
          "base_uri": "https://localhost:8080/",
          "height": 430
        },
        "id": "Ga-DSb2sMVcm",
        "outputId": "5eeaada9-7a38-4e68-c7f3-a4b5055110be"
      },
      "execution_count": 184,
      "outputs": [
        {
          "output_type": "display_data",
          "data": {
            "text/plain": [
              "<Figure size 640x480 with 1 Axes>"
            ],
            "image/png": "[encoded data removed]"
          },
          "metadata": {}
        }
      ]
    },
    {
      "cell_type": "code",
      "source": [
        "import torch.optim as optim\n",
        "import torch.nn as nn\n",
        "@timer\n",
        "def train_model_torch3(lr=0.01, epochs=1000):\n",
        "  # Initialize parameters\n",
        "  b = torch.randn(1, requires_grad=True, dtype=torch.float, device=device)\n",
        "  w = torch.randn(1, requires_grad=True, dtype=torch.float, device=device)\n",
        "  w2 = torch.randn(1, requires_grad=True, dtype=torch.float, device=device)\n",
        "  w3 = torch.randn(1, requires_grad=True, dtype=torch.float, device=device)\n",
        "  parameters = [b, w, w2, w3]\n",
        "  optimizer = optim.SGD(parameters, lr=lr)\n",
        "  mse_loss = nn.MSELoss()\n",
        "\n",
        "  for epoch in range(epochs):\n",
        "    # Loss computation\n",
        "    y_hat = b + w * x_train_tensor + w2 * (x_train_tensor ** 2 ) + w3 * (x_train_tensor ** 3)\n",
        "    loss = mse_loss(y_hat, y_train_tensor)\n",
        "    # Gradient Computation and descent\n",
        "    loss.backward()\n",
        "    optimizer.step()\n",
        "    optimizer.zero_grad()\n",
        "    if epoch % 50 == 0:\n",
        "      print(\"epoch: {}, loss: {}\".format(epoch, loss))\n",
        "  return b, w, w2, w3"
      ],
      "metadata": {
        "id": "cySyu2l-Mkzf"
      },
      "execution_count": 206,
      "outputs": []
    },
    {
      "cell_type": "code",
      "source": [
        "b_hat, w_hat, w2_hat, w3_hat = train_model_torch3()\n",
        "print(\"b_estimate:{}, w_estimate:{}, w2_estimate:{}, w3_estimate:{}\".format(b_hat, w_hat, w2_hat, w3_hat))"
      ],
      "metadata": {
        "colab": {
          "base_uri": "https://localhost:8080/"
        },
        "id": "resa39XJMtNx",
        "outputId": "245998ed-9b22-4d0b-c2cb-348051618efb"
      },
      "execution_count": 207,
      "outputs": [
        {
          "output_type": "stream",
          "name": "stdout",
          "text": [
            "epoch: 0, loss: 1.5970473677530181\n",
            "epoch: 50, loss: 0.36049143865311556\n",
            "epoch: 100, loss: 0.28708528197829436\n",
            "epoch: 150, loss: 0.2776089414001503\n",
            "epoch: 200, loss: 0.2729195262570136\n",
            "epoch: 250, loss: 0.2694377645592634\n",
            "epoch: 300, loss: 0.26667772254306693\n",
            "epoch: 350, loss: 0.2644112739376271\n",
            "epoch: 400, loss: 0.26248762399255926\n",
            "epoch: 450, loss: 0.2608037033790399\n",
            "epoch: 500, loss: 0.25928884180405654\n",
            "epoch: 550, loss: 0.257894564897326\n",
            "epoch: 600, loss: 0.25658765089676133\n",
            "epoch: 650, loss: 0.2553452495971112\n",
            "epoch: 700, loss: 0.2541516268549933\n",
            "epoch: 750, loss: 0.25299596190600854\n",
            "epoch: 800, loss: 0.2518708074920461\n",
            "epoch: 850, loss: 0.25077095721943266\n",
            "epoch: 900, loss: 0.24969279609324105\n",
            "epoch: 950, loss: 0.24863380739667634\n",
            "Executation time of train_model_torch3: 0.6305093765258789 seconds\n",
            "b_estimate:tensor([-0.3979], requires_grad=True), w_estimate:tensor([0.3416], requires_grad=True), w2_estimate:tensor([0.9508], requires_grad=True), w3_estimate:tensor([-1.8528], requires_grad=True)\n"
          ]
        }
      ]
    },
    {
      "cell_type": "code",
      "source": [
        "x_val_tensor = torch.as_tensor(x_val).to(device)\n",
        "y_val_tensor = torch.as_tensor(y_val).to(device)\n",
        "y_val_pred = b_hat + w_hat * x_val_tensor + w2_hat * (x_val_tensor ** 2 )  + w3_hat * (x_val_tensor ** 3)\n",
        "mse_loss = nn.MSELoss()\n",
        "loss = mse_loss(y_val_pred, y_val_tensor)\n",
        "loss"
      ],
      "metadata": {
        "colab": {
          "base_uri": "https://localhost:8080/"
        },
        "id": "aqtcVXYPNHKA",
        "outputId": "0b3b57b7-0531-4f4b-fc55-4b17f02f7ecf"
      },
      "execution_count": 208,
      "outputs": [
        {
          "output_type": "execute_result",
          "data": {
            "text/plain": [
              "tensor(0.2172, dtype=torch.float64, grad_fn=<MseLossBackward0>)"
            ]
          },
          "metadata": {},
          "execution_count": 208
        }
      ]
    },
    {
      "cell_type": "code",
      "source": [
        "import matplotlib.pyplot as plt\n",
        "y_train_pred = b_hat + w_hat * x_train_tensor + w2_hat * (x_train_tensor ** 2 )  + w3_hat * (x_train_tensor ** 3)\n",
        "plt.scatter(x_train, y_train, alpha=0.2, label='train',color='b')\n",
        "plt.scatter(x_val, y_val, color='orange', alpha=0.2, label='validation')\n",
        "plt.scatter(x_val, y_val_pred.tolist(), color='orange', alpha=0.9, label='fitted val')\n",
        "plt.scatter(x_train, y_train_pred.tolist(), alpha=0.9, label='fitted train',color='b')\n",
        "plt.legend()\n",
        "plt.grid()"
      ],
      "metadata": {
        "colab": {
          "base_uri": "https://localhost:8080/",
          "height": 430
        },
        "id": "7E9mBmgRPCW5",
        "outputId": "0716171a-927c-418e-a485-42060af54b71"
      },
      "execution_count": 210,
      "outputs": [
        {
          "output_type": "display_data",
          "data": {
            "text/plain": [
              "<Figure size 640x480 with 1 Axes>"
            ],
            "image/png": "[encoded data removed]"
          },
          "metadata": {}
        }
      ]
    }
  ]
}