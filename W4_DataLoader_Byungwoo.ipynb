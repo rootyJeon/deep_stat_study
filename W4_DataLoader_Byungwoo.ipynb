{
  "cells": [
    {
      "cell_type": "code",
      "execution_count": 74,
      "metadata": {
        "id": "qCDhWQpi7o6V"
      },
      "outputs": [],
      "source": [
        "import pickle\n",
        "import numpy as np\n",
        "from PIL import Image\n",
        "\n",
        "import torch\n",
        "from torch.utils.data import Dataset, DataLoader"
      ]
    },
    {
      "cell_type": "code",
      "source": [
        "from google.colab import drive\n",
        "drive.mount('/content/drive')"
      ],
      "metadata": {
        "colab": {
          "base_uri": "https://localhost:8080/"
        },
        "id": "LV6qFhhF76VS",
        "outputId": "a5bf2811-5d7a-4088-bbe6-f080d34d0924"
      },
      "execution_count": 75,
      "outputs": [
        {
          "output_type": "stream",
          "name": "stdout",
          "text": [
            "Drive already mounted at /content/drive; to attempt to forcibly remount, call drive.mount(\"/content/drive\", force_remount=True).\n"
          ]
        }
      ]
    },
    {
      "cell_type": "markdown",
      "metadata": {
        "id": "G2COQ9vd7o6X"
      },
      "source": [
        "Customized DataLoader"
      ]
    },
    {
      "cell_type": "code",
      "source": [
        "from io import BytesIO\n",
        "from PIL import Image\n",
        "from zipfile import ZipFile"
      ],
      "metadata": {
        "id": "QYTBVlT099Vs"
      },
      "execution_count": 76,
      "outputs": []
    },
    {
      "cell_type": "code",
      "source": [
        "def extract_img_zipfile(zip_path, img_name):\n",
        "    \"\"\"\n",
        "    args\n",
        "    zip_path: zip 파일 경로 ex) './train.zip'\n",
        "    img_name: zip 파일 내 이미지 파일 이름 ex) 'train/image_0.png' or ['train/image_0.png', 'train/image_1.png', ..]\n",
        "    \"\"\"\n",
        "    with ZipFile(zip_path, 'r') as img_file:\n",
        "        img_data = img_file.read(img_name)\n",
        "\n",
        "    img_bytes_io = BytesIO(img_data)\n",
        "\n",
        "    with Image.open(img_bytes_io) as img:\n",
        "        return np.array(img)"
      ],
      "metadata": {
        "id": "oOhyCk__9_vC"
      },
      "execution_count": 77,
      "outputs": []
    },
    {
      "cell_type": "code",
      "source": [
        "file_path = \"/content/drive/MyDrive/deep_stat/project/PBL.zip\"\n",
        "img_name = \"train/image_1.png\"\n",
        "tmp = extract_img_zipfile(file_path, img_name)\n",
        "print(tmp)"
      ],
      "metadata": {
        "colab": {
          "base_uri": "https://localhost:8080/"
        },
        "id": "ZdrwMSR7-E6n",
        "outputId": "e6007ce0-9fda-4dfb-d0b0-3de479239fb7"
      },
      "execution_count": 78,
      "outputs": [
        {
          "output_type": "stream",
          "name": "stdout",
          "text": [
            "[[0 0 0 ... 0 0 0]\n",
            " [0 0 0 ... 0 0 0]\n",
            " [0 0 0 ... 0 0 0]\n",
            " ...\n",
            " [0 0 0 ... 0 0 0]\n",
            " [0 0 0 ... 0 0 0]\n",
            " [0 0 0 ... 0 0 0]]\n"
          ]
        }
      ]
    },
    {
      "cell_type": "code",
      "execution_count": 79,
      "metadata": {
        "id": "ljyKpVM-7o6Z"
      },
      "outputs": [],
      "source": [
        "class custom_train_dataset(Dataset):\n",
        "    def __init__(self, data_dir, train=True, transform=None):\n",
        "\n",
        "        self.data_dir = data_dir\n",
        "\n",
        "        if train:\n",
        "            self.input_path = '.'\n",
        "            self.target_path = '/train.pkl'\n",
        "        else:\n",
        "            self.input_path = '.'\n",
        "            self.target_path = '/valid.pkl'\n",
        "\n",
        "         # open pickle file\n",
        "        with open(self.data_dir + self.target_path, 'rb') as f:\n",
        "            self.data = pickle.load(f)\n",
        "            self.target = np.array(self.data[['n', 'potential']])\n",
        "\n",
        "        if transform is None:\n",
        "            self.transform = torch.Tensor\n",
        "        else:\n",
        "            self.transform = transform\n",
        "\n",
        "    def __len__(self):\n",
        "        return len(self.target)\n",
        "\n",
        "    def __getitem__(self, index):\n",
        "\n",
        "        #img_name = self.data_dir + '/' + self.data.iloc[index, -1]\n",
        "        img_name = self.data.iloc[index, -1]\n",
        "        print(img_name)\n",
        "        file_path = \"/content/drive/MyDrive/deep_stat/project/PBL.zip\"\n",
        "        img = extract_img_zipfile(file_path, img_name)\n",
        "\n",
        "        #with Image.open(img_name) as img_PIL:\n",
        "        #    img = self.transform(np.array(img_PIL))\n",
        "        label = self.transform(self.target[index])\n",
        "\n",
        "        return img, label"
      ]
    },
    {
      "cell_type": "code",
      "execution_count": 80,
      "metadata": {
        "id": "04Fjcf-O7o6a"
      },
      "outputs": [],
      "source": [
        "min_batch = 64\n",
        "custom_train_data = custom_train_dataset('/content/drive/MyDrive/deep_stat/project', train=True)\n",
        "custom_test_data = custom_train_dataset('/content/drive/MyDrive/deep_stat/project', train=False)\n",
        "train_loader = DataLoader(dataset=custom_train_data, batch_size=min_batch, shuffle=True)\n",
        "test_loader = DataLoader(dataset=custom_test_data, batch_size=min_batch, shuffle=False)"
      ]
    },
    {
      "cell_type": "code",
      "execution_count": 81,
      "metadata": {
        "id": "JTkPr4RO7o6a",
        "outputId": "7572ccf2-3dc8-4c73-fb81-5256432b09ce",
        "colab": {
          "base_uri": "https://localhost:8080/"
        }
      },
      "outputs": [
        {
          "output_type": "stream",
          "name": "stdout",
          "text": [
            "train/image_31336.png\n",
            "train/image_32251.png\n",
            "train/image_3665.png\n",
            "train/image_7169.png\n",
            "train/image_8824.png\n",
            "train/image_11831.png\n",
            "train/image_27212.png\n",
            "train/image_2177.png\n",
            "train/image_37494.png\n",
            "train/image_18922.png\n",
            "train/image_21724.png\n",
            "train/image_38321.png\n",
            "train/image_16781.png\n",
            "train/image_50486.png\n",
            "train/image_22040.png\n",
            "train/image_39411.png\n",
            "train/image_37591.png\n",
            "train/image_21533.png\n",
            "train/image_24012.png\n",
            "train/image_50944.png\n",
            "train/image_29540.png\n",
            "train/image_31833.png\n",
            "train/image_40619.png\n",
            "train/image_43744.png\n",
            "train/image_9136.png\n",
            "train/image_9215.png\n",
            "train/image_26038.png\n",
            "train/image_24863.png\n",
            "train/image_57396.png\n",
            "train/image_37552.png\n",
            "train/image_3786.png\n",
            "train/image_28894.png\n",
            "train/image_27383.png\n",
            "train/image_15567.png\n",
            "train/image_50175.png\n",
            "train/image_26032.png\n",
            "train/image_59967.png\n",
            "train/image_25667.png\n",
            "train/image_42454.png\n",
            "train/image_17899.png\n",
            "train/image_41423.png\n",
            "train/image_2049.png\n",
            "train/image_42923.png\n",
            "train/image_50116.png\n",
            "train/image_3964.png\n",
            "train/image_51799.png\n",
            "train/image_28075.png\n",
            "train/image_24059.png\n",
            "train/image_38104.png\n",
            "train/image_53718.png\n",
            "train/image_14516.png\n",
            "train/image_56320.png\n",
            "train/image_34508.png\n",
            "train/image_32716.png\n",
            "train/image_5878.png\n",
            "train/image_1561.png\n",
            "train/image_58473.png\n",
            "train/image_33035.png\n",
            "train/image_9086.png\n",
            "train/image_26862.png\n",
            "train/image_2156.png\n",
            "train/image_23743.png\n",
            "train/image_20145.png\n",
            "train/image_12469.png\n"
          ]
        },
        {
          "output_type": "execute_result",
          "data": {
            "text/plain": [
              "(tensor([[[0, 0, 0,  ..., 0, 0, 0],\n",
              "          [0, 0, 0,  ..., 0, 0, 0],\n",
              "          [0, 0, 0,  ..., 0, 0, 0],\n",
              "          ...,\n",
              "          [0, 0, 0,  ..., 0, 0, 0],\n",
              "          [0, 0, 0,  ..., 0, 0, 0],\n",
              "          [0, 0, 0,  ..., 0, 0, 0]],\n",
              " \n",
              "         [[0, 0, 0,  ..., 0, 0, 0],\n",
              "          [0, 0, 0,  ..., 0, 0, 0],\n",
              "          [0, 0, 0,  ..., 0, 0, 0],\n",
              "          ...,\n",
              "          [0, 0, 0,  ..., 0, 0, 0],\n",
              "          [0, 0, 0,  ..., 0, 0, 0],\n",
              "          [0, 0, 0,  ..., 0, 0, 0]],\n",
              " \n",
              "         [[0, 0, 0,  ..., 0, 0, 0],\n",
              "          [0, 0, 0,  ..., 0, 0, 0],\n",
              "          [0, 0, 0,  ..., 0, 0, 0],\n",
              "          ...,\n",
              "          [0, 0, 0,  ..., 0, 0, 0],\n",
              "          [0, 0, 0,  ..., 0, 0, 0],\n",
              "          [0, 0, 0,  ..., 0, 0, 0]],\n",
              " \n",
              "         ...,\n",
              " \n",
              "         [[0, 0, 0,  ..., 0, 0, 0],\n",
              "          [0, 0, 0,  ..., 0, 0, 0],\n",
              "          [0, 0, 0,  ..., 0, 0, 0],\n",
              "          ...,\n",
              "          [0, 0, 0,  ..., 0, 0, 0],\n",
              "          [0, 0, 0,  ..., 0, 0, 0],\n",
              "          [0, 0, 0,  ..., 0, 0, 0]],\n",
              " \n",
              "         [[0, 0, 0,  ..., 0, 0, 0],\n",
              "          [0, 0, 0,  ..., 0, 0, 0],\n",
              "          [0, 0, 0,  ..., 0, 0, 0],\n",
              "          ...,\n",
              "          [0, 0, 0,  ..., 0, 0, 0],\n",
              "          [0, 0, 0,  ..., 0, 0, 0],\n",
              "          [0, 0, 0,  ..., 0, 0, 0]],\n",
              " \n",
              "         [[0, 0, 0,  ..., 0, 0, 0],\n",
              "          [0, 0, 0,  ..., 0, 0, 0],\n",
              "          [0, 0, 0,  ..., 0, 0, 0],\n",
              "          ...,\n",
              "          [0, 0, 0,  ..., 0, 0, 0],\n",
              "          [0, 0, 0,  ..., 0, 0, 0],\n",
              "          [0, 0, 0,  ..., 0, 0, 0]]], dtype=torch.uint8),\n",
              " tensor([[7.0000, 0.3470],\n",
              "         [5.0000, 0.5170],\n",
              "         [8.0000, 0.4760],\n",
              "         [5.0000, 0.1940],\n",
              "         [8.0000, 0.4510],\n",
              "         [6.0000, 0.1530],\n",
              "         [8.0000, 0.4850],\n",
              "         [8.0000, 0.3710],\n",
              "         [5.0000, 0.2730],\n",
              "         [8.0000, 0.5110],\n",
              "         [6.0000, 0.1750],\n",
              "         [8.0000, 0.2750],\n",
              "         [8.0000, 0.2650],\n",
              "         [5.0000, 0.3830],\n",
              "         [6.0000, 0.4200],\n",
              "         [7.0000, 0.5190],\n",
              "         [8.0000, 0.2320],\n",
              "         [8.0000, 0.1660],\n",
              "         [6.0000, 0.4020],\n",
              "         [8.0000, 0.1530],\n",
              "         [8.0000, 0.3170],\n",
              "         [8.0000, 0.5170],\n",
              "         [6.0000, 0.3170],\n",
              "         [8.0000, 0.2170],\n",
              "         [8.0000, 0.4530],\n",
              "         [5.0000, 0.3140],\n",
              "         [8.0000, 0.2550],\n",
              "         [7.0000, 0.2280],\n",
              "         [8.0000, 0.3380],\n",
              "         [5.0000, 0.4920],\n",
              "         [8.0000, 0.1510],\n",
              "         [8.0000, 0.4200],\n",
              "         [6.0000, 0.4470],\n",
              "         [5.0000, 0.2810],\n",
              "         [8.0000, 0.2860],\n",
              "         [5.0000, 0.2290],\n",
              "         [7.0000, 0.3530],\n",
              "         [6.0000, 0.2130],\n",
              "         [6.0000, 0.1810],\n",
              "         [5.0000, 0.3450],\n",
              "         [8.0000, 0.3440],\n",
              "         [6.0000, 0.5000],\n",
              "         [8.0000, 0.2400],\n",
              "         [6.0000, 0.1680],\n",
              "         [5.0000, 0.2150],\n",
              "         [7.0000, 0.2420],\n",
              "         [8.0000, 0.1870],\n",
              "         [8.0000, 0.2980],\n",
              "         [5.0000, 0.2760],\n",
              "         [6.0000, 0.3930],\n",
              "         [8.0000, 0.4930],\n",
              "         [8.0000, 0.3720],\n",
              "         [8.0000, 0.4710],\n",
              "         [6.0000, 0.2530],\n",
              "         [8.0000, 0.3460],\n",
              "         [8.0000, 0.4220],\n",
              "         [8.0000, 0.4260],\n",
              "         [8.0000, 0.4260],\n",
              "         [6.0000, 0.2250],\n",
              "         [7.0000, 0.1870],\n",
              "         [8.0000, 0.2090],\n",
              "         [8.0000, 0.2660],\n",
              "         [5.0000, 0.3100],\n",
              "         [6.0000, 0.4140]]))"
            ]
          },
          "metadata": {},
          "execution_count": 81
        }
      ],
      "source": [
        "x, y = next(iter(train_loader))\n",
        "x, y"
      ]
    },
    {
      "cell_type": "code",
      "execution_count": 82,
      "metadata": {
        "id": "2Te6KK4p7o6b",
        "outputId": "dac22393-83f1-426f-826f-2fc208d78496",
        "colab": {
          "base_uri": "https://localhost:8080/",
          "height": 81
        }
      },
      "outputs": [
        {
          "output_type": "display_data",
          "data": {
            "text/plain": [
              "<Figure size 640x480 with 1 Axes>"
            ],
            "image/png": "[encoded data removed]"
          },
          "metadata": {}
        }
      ],
      "source": [
        "import matplotlib.pyplot as plt\n",
        "plt.imshow(x[0], cmap='gray')\n",
        "plt.show()"
      ]
    }
  ],
  "metadata": {
    "kernelspec": {
      "display_name": "Python 3",
      "name": "python3"
    },
    "language_info": {
      "codemirror_mode": {
        "name": "ipython",
        "version": 3
      },
      "file_extension": ".py",
      "mimetype": "text/x-python",
      "name": "python",
      "nbconvert_exporter": "python",
      "pygments_lexer": "ipython3",
      "version": "3.11.3"
    },
    "orig_nbformat": 4,
    "colab": {
      "provenance": [],
      "gpuType": "T4"
    },
    "accelerator": "GPU"
  },
  "nbformat": 4,
  "nbformat_minor": 0
}