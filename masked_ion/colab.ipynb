{
 "cells": [
  {
   "cell_type": "markdown",
   "metadata": {},
   "source": [
    "git clone"
   ]
  },
  {
   "cell_type": "code",
   "execution_count": null,
   "metadata": {},
   "outputs": [],
   "source": [
    "# image file\n",
    "!git clone https://github.com/sungbinlim/KU-pytorch-study-2023.git\n",
    "# code files\n"
   ]
  },
  {
   "cell_type": "markdown",
   "metadata": {},
   "source": [
    "unzip"
   ]
  },
  {
   "cell_type": "code",
   "execution_count": null,
   "metadata": {},
   "outputs": [],
   "source": [
    "!unzip ../content/KU-pytorch-study-2023/ion_data/train.zip -d ../content/KU-pytorch-study-2023/ion_data/\n",
    "!unzip ../content/KU-pytorch-study-2023/ion_data/valid.zip -d ../content/KU-pytorch-study-2023/ion_data/\n",
    "!rm -r -f ../content/KU-pytorch-study-2023/ion_data/__MACOSX/"
   ]
  },
  {
   "cell_type": "markdown",
   "metadata": {},
   "source": [
    "경로 설정"
   ]
  },
  {
   "cell_type": "code",
   "execution_count": null,
   "metadata": {},
   "outputs": [],
   "source": [
    "import os\n",
    "desired_directory = \"/content/KU-pytorch-study-2023\"\n",
    "os.chdir(desired_directory)"
   ]
  },
  {
   "cell_type": "markdown",
   "metadata": {},
   "source": [
    "Wandb 설정"
   ]
  },
  {
   "cell_type": "code",
   "execution_count": null,
   "metadata": {},
   "outputs": [],
   "source": [
    "%env WANDB_API_KEY=$dda6c47857b3477944fba344b88b1694f1be94e9"
   ]
  },
  {
   "cell_type": "markdown",
   "metadata": {},
   "source": [
    "Trainer 실행"
   ]
  },
  {
   "cell_type": "code",
   "execution_count": null,
   "metadata": {},
   "outputs": [],
   "source": [
    "# trainer.py\n",
    "!python trainer.py"
   ]
  },
  {
   "cell_type": "code",
   "execution_count": null,
   "metadata": {},
   "outputs": [],
   "source": [
    "# notebook file에서 display하기 위함\n",
    "wandb.run.display(height=720)"
   ]
  },
  {
   "cell_type": "markdown",
   "metadata": {},
   "source": [
    "Hyperparameters Sweep 결과 분석<br>\n",
    "[Weights & Biases Sweeps](https://docs.wandb.ai/guides/sweeps) 를 이용하여 hyperparameters search 를 자동화하고, 가능한 model의 space를 탐색할 수 있음.<br>\n",
    "Bayesian, grid search, random search 같은 방법을 사용할 수 있으며 시각적으로 잘 표현할 수 있음."
   ]
  },
  {
   "cell_type": "code",
   "execution_count": null,
   "metadata": {},
   "outputs": [],
   "source": [
    "# Initialize the sweep\n",
    "sweep_id = wandb.sweep(config.sweep_config)\n",
    "\n",
    "# Run the sweep agent\n",
    "wandb.agent(sweep_id, function=my_train_func, count=count)"
   ]
  },
  {
   "cell_type": "markdown",
   "metadata": {},
   "source": [
    "Best Model Load"
   ]
  },
  {
   "cell_type": "code",
   "execution_count": null,
   "metadata": {},
   "outputs": [],
   "source": []
  },
  {
   "cell_type": "markdown",
   "metadata": {},
   "source": [
    "Tester 실행"
   ]
  },
  {
   "cell_type": "code",
   "execution_count": null,
   "metadata": {},
   "outputs": [],
   "source": [
    "!python tester.py"
   ]
  }
 ],
 "metadata": {
  "language_info": {
   "name": "python"
  },
  "orig_nbformat": 4
 },
 "nbformat": 4,
 "nbformat_minor": 2
}
