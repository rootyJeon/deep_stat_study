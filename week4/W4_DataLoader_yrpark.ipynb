{
 "cells": [
  {
   "cell_type": "code",
   "execution_count": 48,
   "metadata": {},
   "outputs": [],
   "source": [
    "import pickle\n",
    "import numpy as np\n",
    "from PIL import Image\n",
    "\n",
    "import torch\n",
    "from torch.utils.data import Dataset, DataLoader"
   ]
  },
  {
   "cell_type": "markdown",
   "metadata": {},
   "source": [
    "Customized DataLoader"
   ]
  },
  {
   "cell_type": "code",
   "execution_count": 49,
   "metadata": {},
   "outputs": [],
   "source": [
    "class custom_train_dataset(Dataset):\n",
    "    def __init__(self, data_dir, train=True, transform=None):\n",
    "        \n",
    "        self.data_dir = data_dir\n",
    "        \n",
    "        if train:\n",
    "            self.input_path = '/train'\n",
    "            self.target_path = '/train.pkl'\n",
    "        else:\n",
    "            self.input_path = '/valid'\n",
    "            self.target_path = '/valid.pkl'\n",
    "            \n",
    "         # open pickle file\n",
    "        with open(self.data_dir + self.target_path, 'rb') as f:\n",
    "            self.data = pickle.load(f)\n",
    "            self.target = np.array(self.data[['n', 'potential']])\n",
    "            \n",
    "        if transform is None:\n",
    "            self.transform = torch.Tensor #Numpy로 읽은 것을 torch tensor로 변환.\n",
    "        else:\n",
    "            self.transform = transform\n",
    "            \n",
    "    def __len__(self):\n",
    "        return len(self.target)\n",
    "    \n",
    "    def __getitem__(self, index):\n",
    "        \n",
    "        img_name = self.data_dir + '/' + self.data.iloc[index, -1]\n",
    "        with Image.open(img_name) as img_PIL:\n",
    "            img = self.transform(np.array(img_PIL))\n",
    "        label = self.transform(self.target[index])\n",
    "        \n",
    "        return img, label"
   ]
  },
  {
   "cell_type": "code",
   "execution_count": 50,
   "metadata": {},
   "outputs": [],
   "source": [
    "min_batch = 64\n",
    "custom_train_data = custom_train_dataset('./pbl_data', train=True)\n",
    "custom_test_data = custom_train_dataset('./pbl_data', train=False)\n",
    "train_loader = DataLoader(dataset=custom_train_data, batch_size=min_batch, shuffle=True)\n",
    "test_loader = DataLoader(dataset=custom_test_data, batch_size=min_batch, shuffle=False)"
   ]
  },
  {
   "cell_type": "code",
   "execution_count": 59,
   "metadata": {},
   "outputs": [
    {
     "data": {
      "text/plain": [
       "(tensor([[[0., 0., 0.,  ..., 0., 0., 0.],\n",
       "          [0., 0., 0.,  ..., 0., 0., 0.],\n",
       "          [0., 0., 0.,  ..., 0., 0., 0.],\n",
       "          ...,\n",
       "          [0., 0., 0.,  ..., 0., 0., 0.],\n",
       "          [0., 0., 0.,  ..., 0., 0., 0.],\n",
       "          [0., 0., 0.,  ..., 0., 0., 0.]],\n",
       " \n",
       "         [[0., 0., 0.,  ..., 0., 0., 0.],\n",
       "          [0., 0., 0.,  ..., 0., 0., 0.],\n",
       "          [0., 0., 0.,  ..., 0., 0., 0.],\n",
       "          ...,\n",
       "          [0., 0., 0.,  ..., 0., 0., 0.],\n",
       "          [0., 0., 0.,  ..., 0., 0., 0.],\n",
       "          [0., 0., 0.,  ..., 0., 0., 0.]],\n",
       " \n",
       "         [[0., 0., 0.,  ..., 0., 0., 0.],\n",
       "          [0., 0., 0.,  ..., 0., 0., 0.],\n",
       "          [0., 0., 0.,  ..., 0., 0., 0.],\n",
       "          ...,\n",
       "          [0., 0., 0.,  ..., 0., 0., 0.],\n",
       "          [0., 0., 0.,  ..., 0., 0., 0.],\n",
       "          [0., 0., 0.,  ..., 0., 0., 0.]],\n",
       " \n",
       "         ...,\n",
       " \n",
       "         [[0., 0., 0.,  ..., 0., 0., 0.],\n",
       "          [0., 0., 0.,  ..., 0., 0., 0.],\n",
       "          [0., 0., 0.,  ..., 0., 0., 0.],\n",
       "          ...,\n",
       "          [0., 0., 0.,  ..., 0., 0., 0.],\n",
       "          [0., 0., 0.,  ..., 0., 0., 0.],\n",
       "          [0., 0., 0.,  ..., 0., 0., 0.]],\n",
       " \n",
       "         [[0., 0., 0.,  ..., 0., 0., 0.],\n",
       "          [0., 0., 0.,  ..., 0., 0., 0.],\n",
       "          [0., 0., 0.,  ..., 0., 0., 0.],\n",
       "          ...,\n",
       "          [0., 0., 0.,  ..., 0., 0., 0.],\n",
       "          [0., 0., 0.,  ..., 0., 0., 0.],\n",
       "          [0., 0., 0.,  ..., 0., 0., 0.]],\n",
       " \n",
       "         [[0., 0., 0.,  ..., 0., 0., 0.],\n",
       "          [0., 0., 0.,  ..., 0., 0., 0.],\n",
       "          [0., 0., 0.,  ..., 0., 0., 0.],\n",
       "          ...,\n",
       "          [0., 0., 0.,  ..., 0., 0., 0.],\n",
       "          [0., 0., 0.,  ..., 0., 0., 0.],\n",
       "          [0., 0., 0.,  ..., 0., 0., 0.]]]),\n",
       " tensor([[6.0000, 0.4120],\n",
       "         [7.0000, 0.4310],\n",
       "         [8.0000, 0.1760],\n",
       "         [8.0000, 0.2180],\n",
       "         [5.0000, 0.5090],\n",
       "         [8.0000, 0.1730],\n",
       "         [8.0000, 0.4890],\n",
       "         [5.0000, 0.4880],\n",
       "         [5.0000, 0.4700],\n",
       "         [8.0000, 0.4210],\n",
       "         [8.0000, 0.3140],\n",
       "         [6.0000, 0.2470],\n",
       "         [7.0000, 0.1830],\n",
       "         [5.0000, 0.2200],\n",
       "         [7.0000, 0.2210],\n",
       "         [8.0000, 0.4570],\n",
       "         [8.0000, 0.4940],\n",
       "         [5.0000, 0.2600],\n",
       "         [6.0000, 0.4400],\n",
       "         [5.0000, 0.1780],\n",
       "         [5.0000, 0.2600],\n",
       "         [5.0000, 0.3010],\n",
       "         [7.0000, 0.4310],\n",
       "         [7.0000, 0.4600],\n",
       "         [8.0000, 0.1570],\n",
       "         [8.0000, 0.2950],\n",
       "         [5.0000, 0.4200],\n",
       "         [8.0000, 0.3750],\n",
       "         [8.0000, 0.2290],\n",
       "         [7.0000, 0.1760],\n",
       "         [8.0000, 0.2210],\n",
       "         [6.0000, 0.1660],\n",
       "         [8.0000, 0.4020],\n",
       "         [7.0000, 0.3610],\n",
       "         [6.0000, 0.4450],\n",
       "         [6.0000, 0.4250],\n",
       "         [6.0000, 0.3600],\n",
       "         [6.0000, 0.4120],\n",
       "         [7.0000, 0.4380],\n",
       "         [6.0000, 0.3600],\n",
       "         [8.0000, 0.2310],\n",
       "         [6.0000, 0.2950],\n",
       "         [6.0000, 0.4560],\n",
       "         [6.0000, 0.3580],\n",
       "         [8.0000, 0.2590],\n",
       "         [8.0000, 0.4300],\n",
       "         [8.0000, 0.2740],\n",
       "         [6.0000, 0.4070],\n",
       "         [7.0000, 0.2710],\n",
       "         [5.0000, 0.1660],\n",
       "         [8.0000, 0.3340],\n",
       "         [8.0000, 0.2830],\n",
       "         [7.0000, 0.4420],\n",
       "         [5.0000, 0.3630],\n",
       "         [6.0000, 0.4740],\n",
       "         [8.0000, 0.4340],\n",
       "         [8.0000, 0.1760],\n",
       "         [6.0000, 0.3140],\n",
       "         [5.0000, 0.2960],\n",
       "         [8.0000, 0.3710],\n",
       "         [8.0000, 0.4300],\n",
       "         [6.0000, 0.4190],\n",
       "         [8.0000, 0.3720],\n",
       "         [8.0000, 0.4030]]))"
      ]
     },
     "execution_count": 59,
     "metadata": {},
     "output_type": "execute_result"
    }
   ],
   "source": [
    "x, y = next(iter(train_loader))\n",
    "x, y"
   ]
  },
  {
   "cell_type": "code",
   "execution_count": 54,
   "metadata": {},
   "outputs": [
    {
     "data": {
      "image/png": "[encoded data removed]",
      "text/plain": [
       "<Figure size 640x480 with 1 Axes>"
      ]
     },
     "metadata": {},
     "output_type": "display_data"
    }
   ],
   "source": [
    "import matplotlib.pyplot as plt\n",
    "plt.imshow(x[0], cmap='gray')\n",
    "plt.show()"
   ]
  }
 ],
 "metadata": {
  "kernelspec": {
   "display_name": "Python 3",
   "language": "python",
   "name": "python3"
  },
  "language_info": {
   "codemirror_mode": {
    "name": "ipython",
    "version": 3
   },
   "file_extension": ".py",
   "mimetype": "text/x-python",
   "name": "python",
   "nbconvert_exporter": "python",
   "pygments_lexer": "ipython3",
   "version": "3.11.3"
  },
  "orig_nbformat": 4
 },
 "nbformat": 4,
 "nbformat_minor": 2
}
